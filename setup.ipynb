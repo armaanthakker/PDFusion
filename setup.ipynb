{
 "cells": [
  {
   "cell_type": "code",
   "execution_count": 68,
   "metadata": {},
   "outputs": [],
   "source": [
    "import weaviate\n",
    "import weaviate.classes as wvc\n",
    "import os\n",
    "import requests\n",
    "import json\n",
    "from unstructured.partition.pdf import partition_pdf\n",
    "from pathlib import Path\n",
    "import weaviate\n",
    "from weaviate.embedded import EmbeddedOptions\n",
    "import os\n",
    "import weaviate.classes.config as wc\n",
    "from weaviate.classes.init import AdditionalConfig, Timeout"
   ]
  },
  {
   "cell_type": "code",
   "execution_count": 69,
   "metadata": {},
   "outputs": [],
   "source": [
    "#add streamlit frontend"
   ]
  },
  {
   "cell_type": "code",
   "execution_count": 70,
   "metadata": {},
   "outputs": [],
   "source": [
    "client.close()"
   ]
  },
  {
   "cell_type": "code",
   "execution_count": 71,
   "metadata": {},
   "outputs": [],
   "source": [
    "from dotenv import load_dotenv, find_dotenv\n",
    "_ = load_dotenv(find_dotenv())\n",
    "\n",
    "client = weaviate.connect_to_wcs(\n",
    "    cluster_url=os.getenv(\"WCD_URL\"),\n",
    "    auth_credentials=weaviate.auth.AuthApiKey(os.getenv(\"WCD_API_KEY\")),\n",
    "    headers={\n",
    "        \"X-OpenAI-Api-Key\": os.environ[\"OPENAI_APIKEY\"]\n",
    "    },\n",
    "    additional_config=AdditionalConfig(timeout=Timeout(init=10, query=45, insert=120))\n",
    ")\n"
   ]
  },
  {
   "cell_type": "code",
   "execution_count": 78,
   "metadata": {},
   "outputs": [],
   "source": [
    "client.collections.delete_all()\n",
    "\n",
    "collection_of_docs = client.collections.create(\n",
    "    name=\"Document\",\n",
    "    properties=[\n",
    "        wc.Property(name=\"content\", data_type=wc.DataType.TEXT),\n",
    "        wc.Property(name=\"source\", data_type=wc.DataType.TEXT, skip_vectorization=True)\n",
    "    ],\n",
    "    vectorizer_config=wc.Configure.Vectorizer.text2vec_openai(),\n",
    "    generative_config=wc.Configure.Generative.openai()\n",
    ")"
   ]
  },
  {
   "cell_type": "code",
   "execution_count": 73,
   "metadata": {},
   "outputs": [],
   "source": [
    "pdf_paths = [\"Quickstart Competitive Analysis.pdf\", \"vector_research.pdf\"]\n",
    "#create a list of multiple pdfs\n",
    "#create a new method to read multiple files using readfile then use that in insert_chunks_from_file"
   ]
  },
  {
   "cell_type": "code",
   "execution_count": 74,
   "metadata": {},
   "outputs": [],
   "source": [
    "def get_chunks(s, maxlength):\n",
    "    start = 0\n",
    "    end = 0\n",
    "    while start + maxlength  < len(s) and end != -1:\n",
    "        end = s.rfind(\" \", start, start + maxlength + 1)\n",
    "        yield s[start:end]\n",
    "        start = end +1\n",
    "    yield s[start:]"
   ]
  },
  {
   "cell_type": "code",
   "execution_count": 75,
   "metadata": {},
   "outputs": [],
   "source": [
    "def read_file(pdf_path):\n",
    "    partitions = partition_pdf(pdf_path)\n",
    "    pdf_text=\"\\n\".join([str(part) for part in partitions])\n",
    "    return get_chunks(pdf_text, 500)\n",
    "\n"
   ]
  },
  {
   "cell_type": "code",
   "execution_count": 76,
   "metadata": {},
   "outputs": [],
   "source": [
    "def insert_chunks_from_file(pdf_paths):\n",
    "    \n",
    "    for pdf_path in pdf_paths:\n",
    "        chunks = read_file(pdf_path)\n",
    "        chunks_list = []\n",
    "        for chunk in chunks:\n",
    "            chunks_list.append({\n",
    "                \"content\": chunk,\n",
    "                \"source\": \"Quickstart Competitive Analysis.pdf\"\n",
    "            })\n",
    "\n",
    "    \n",
    "\n",
    "    docs = client.collections.get(\"Document\")\n",
    "    docs.data.insert_many(chunks_list)\n",
    "    "
   ]
  },
  {
   "cell_type": "code",
   "execution_count": 77,
   "metadata": {},
   "outputs": [
    {
     "name": "stderr",
     "output_type": "stream",
     "text": [
      "/Users/armaan_thakker/Desktop/weaviate-test/myenv/lib/python3.8/site-packages/unstructured/partition/pdf.py:94: DeprecationWarning: The 'warn' method is deprecated, use 'warning' instead\n",
      "  logger.warn(\n",
      "detectron2 is not installed. Cannot use the hi_res partitioning strategy. Falling back to partitioning with the fast strategy.\n",
      "detectron2 is not installed. Cannot use the hi_res partitioning strategy. Falling back to partitioning with the fast strategy.\n"
     ]
    }
   ],
   "source": [
    "insert_chunks_from_file(pdf_paths=pdf_paths)"
   ]
  }
 ],
 "metadata": {
  "kernelspec": {
   "display_name": "Python 3.8.8 ('myenv': venv)",
   "language": "python",
   "name": "python3"
  },
  "language_info": {
   "codemirror_mode": {
    "name": "ipython",
    "version": 3
   },
   "file_extension": ".py",
   "mimetype": "text/x-python",
   "name": "python",
   "nbconvert_exporter": "python",
   "pygments_lexer": "ipython3",
   "version": "3.8.8"
  },
  "orig_nbformat": 4,
  "vscode": {
   "interpreter": {
    "hash": "cf1d52e68f29d02c820ab8695fce3ef0cc30a0acc768515361d644b4141ef940"
   }
  }
 },
 "nbformat": 4,
 "nbformat_minor": 2
}
